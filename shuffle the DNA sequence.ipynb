{
 "cells": [
  {
   "cell_type": "code",
   "execution_count": null,
   "metadata": {},
   "outputs": [],
   "source": [
    "# shuffle the input sequence while keeping the GC content the same and removing any UG\n",
    "\n",
    "import random\n",
    "\n",
    "def calculate_gc_content(seq):\n",
    "    gc_count = seq.count('G') + seq.count('C')\n",
    "    return gc_count / len(seq)\n",
    "\n",
    "def shuffle_sequence(seq):\n",
    "    seq_list = list(seq)\n",
    "    random.shuffle(seq_list)\n",
    "    return ''.join(seq_list)\n",
    "\n",
    "def shuffle_sequence_with_same_gc_no_gu(seq):\n",
    "    gc_content = calculate_gc_content(seq)\n",
    "    shuffled_seq = shuffle_sequence(seq)\n",
    "    while ('TG' in shuffled_seq) or (abs(calculate_gc_content(shuffled_seq) - gc_content) > 0.0001):\n",
    "        shuffled_seq = shuffle_sequence(seq)\n",
    "    return shuffled_seq"
   ]
  }
 ],
 "metadata": {
  "language_info": {
   "name": "python"
  }
 },
 "nbformat": 4,
 "nbformat_minor": 2
}
